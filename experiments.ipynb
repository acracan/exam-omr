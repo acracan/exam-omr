{
 "cells": [
  {
   "cell_type": "code",
   "execution_count": null,
   "metadata": {},
   "outputs": [],
   "source": [
    "def nickAdaptiveThreshold(img, maxValue=255, thresholdType=cv.THRESH_BINARY, blockSize=3, k=-0.2):\n",
    "    kernel = np.ones((blockSize, blockSize), dtype=np.float64)\n",
    "    kernel /= (blockSize * blockSize)\n",
    "    mean = cv.filter2D(img, cv.CV_64F, kernel)\n",
    "    mean_square = cv.filter2D(img**2, cv.CV_64F, kernel)\n",
    "    variance = mean_square - mean**2\n",
    "    with np.errstate(divide='ignore', invalid='ignore'):\n",
    "        t = mean + k*np.sqrt(variance + mean**2)\n",
    "    out = np.zeros(img.shape)\n",
    "    if thresholdType == cv.THRESH_BINARY:\n",
    "        out[t < img] = maxValue\n",
    "    elif thresholdType == cv.THRESH_BINARY_INV:\n",
    "        out[t > img] = maxValue\n",
    "    return out"
   ]
  },
  {
   "cell_type": "code",
   "execution_count": null,
   "metadata": {},
   "outputs": [],
   "source": [
    "mean_weigth = 1.0/len(bubble_means)\n",
    "his, bins = np.histogram(bubble_means, np.array(range(0, 256)))\n",
    "final_thresh = -1\n",
    "final_value = -1\n",
    "for t in bins[1:-1]: # This goes from 1 to 254 uint8 range (Pretty sure wont be those values)\n",
    "    Wb = np.sum(his[:t]) * mean_weigth\n",
    "    Wf = np.sum(his[t:]) * mean_weigth\n",
    "\n",
    "    mub = np.mean(his[:t])\n",
    "    muf = np.mean(his[t:])\n",
    "\n",
    "    value = Wb * Wf * (mub - muf) ** 2\n",
    "\n",
    "    if value > final_value:\n",
    "        final_thresh = t\n",
    "        final_value = value\n",
    "final_thresh"
   ]
  }
 ],
 "metadata": {
  "kernelspec": {
   "display_name": "Python 3",
   "language": "python",
   "name": "python3"
  },
  "language_info": {
   "codemirror_mode": {
    "name": "ipython",
    "version": 3
   },
   "file_extension": ".py",
   "mimetype": "text/x-python",
   "name": "python",
   "nbconvert_exporter": "python",
   "pygments_lexer": "ipython3",
   "version": "3.6.7"
  }
 },
 "nbformat": 4,
 "nbformat_minor": 2
}
